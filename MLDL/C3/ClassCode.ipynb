{
  "nbformat": 4,
  "nbformat_minor": 0,
  "metadata": {
    "colab": {
      "provenance": [],
      "collapsed_sections": [
        "9pW8i35_vdp8",
        "1awtLBri5Q5p",
        "97fCMqfw9q7n"
      ],
      "authorship_tag": "ABX9TyP6Ew6uU6clL8NJIojHfmIe",
      "include_colab_link": true
    },
    "kernelspec": {
      "name": "python3",
      "display_name": "Python 3"
    },
    "language_info": {
      "name": "python"
    }
  },
  "cells": [
    {
      "cell_type": "markdown",
      "metadata": {
        "id": "view-in-github",
        "colab_type": "text"
      },
      "source": [
        "<a href=\"https://colab.research.google.com/github/user1855/DMC_courses/blob/main/MLDL/C3/ClassCode.ipynb\" target=\"_parent\"><img src=\"https://colab.research.google.com/assets/colab-badge.svg\" alt=\"Open In Colab\"/></a>"
      ]
    },
    {
      "cell_type": "markdown",
      "source": [
        "##Funciones Básicas"
      ],
      "metadata": {
        "id": "9pW8i35_vdp8"
      }
    },
    {
      "cell_type": "code",
      "execution_count": 57,
      "metadata": {
        "colab": {
          "base_uri": "https://localhost:8080/"
        },
        "id": "VTZow_j8vTXC",
        "outputId": "848de85a-70dc-47e6-cb53-6d5183c15a14"
      },
      "outputs": [
        {
          "output_type": "execute_result",
          "data": {
            "text/plain": [
              "54"
            ]
          },
          "metadata": {},
          "execution_count": 57
        }
      ],
      "source": [
        "2+5*6-3+5**2"
      ]
    },
    {
      "cell_type": "markdown",
      "source": [
        "Importar librerias que complementan los análisis o cálculos que realicemos"
      ],
      "metadata": {
        "id": "vIcTt-5gv_hb"
      }
    },
    {
      "cell_type": "code",
      "source": [
        "import math\n",
        "math.log(10)\n"
      ],
      "metadata": {
        "colab": {
          "base_uri": "https://localhost:8080/"
        },
        "id": "pYx3v9yevpQd",
        "outputId": "cdc3b7b4-bf6b-4d52-825f-a6ea630c70d5"
      },
      "execution_count": 58,
      "outputs": [
        {
          "output_type": "execute_result",
          "data": {
            "text/plain": [
              "2.302585092994046"
            ]
          },
          "metadata": {},
          "execution_count": 58
        }
      ]
    },
    {
      "cell_type": "code",
      "source": [
        "from math import log"
      ],
      "metadata": {
        "id": "Ec71o_-bwp23"
      },
      "execution_count": 59,
      "outputs": []
    },
    {
      "cell_type": "code",
      "source": [
        "log(10)"
      ],
      "metadata": {
        "colab": {
          "base_uri": "https://localhost:8080/"
        },
        "id": "gWWdCsBmwutq",
        "outputId": "e7095711-d200-448d-9a33-c8af7259bb2f"
      },
      "execution_count": 60,
      "outputs": [
        {
          "output_type": "execute_result",
          "data": {
            "text/plain": [
              "2.302585092994046"
            ]
          },
          "metadata": {},
          "execution_count": 60
        }
      ]
    },
    {
      "cell_type": "code",
      "source": [
        "time.time()"
      ],
      "metadata": {
        "colab": {
          "base_uri": "https://localhost:8080/"
        },
        "id": "7OzKw0in1Y0o",
        "outputId": "69bcb66d-a4a2-40f5-eee1-1ad74aaeebdd"
      },
      "execution_count": 61,
      "outputs": [
        {
          "output_type": "execute_result",
          "data": {
            "text/plain": [
              "1677117191.0152915"
            ]
          },
          "metadata": {},
          "execution_count": 61
        }
      ]
    },
    {
      "cell_type": "code",
      "source": [
        "time.time()"
      ],
      "metadata": {
        "colab": {
          "base_uri": "https://localhost:8080/"
        },
        "id": "xEQ_eNC61b1x",
        "outputId": "d385c1a7-69c2-4bb3-a8f8-4d1e62f20232"
      },
      "execution_count": 62,
      "outputs": [
        {
          "output_type": "execute_result",
          "data": {
            "text/plain": [
              "1677117191.0298321"
            ]
          },
          "metadata": {},
          "execution_count": 62
        }
      ]
    },
    {
      "cell_type": "code",
      "source": [
        "a = 1677114863.352211 - 1677114842.2690413\n",
        "print(a)"
      ],
      "metadata": {
        "colab": {
          "base_uri": "https://localhost:8080/"
        },
        "id": "ZsBmPlA51hLB",
        "outputId": "519fa9f6-86b5-46eb-e52c-b709978f9d81"
      },
      "execution_count": 63,
      "outputs": [
        {
          "output_type": "stream",
          "name": "stdout",
          "text": [
            "21.08316969871521\n"
          ]
        }
      ]
    },
    {
      "cell_type": "code",
      "source": [
        "print(\"Hola mundo\" +\" \" + str(2))"
      ],
      "metadata": {
        "colab": {
          "base_uri": "https://localhost:8080/"
        },
        "id": "ZG70ZoStwwUy",
        "outputId": "0a834594-d0b8-42d7-8686-b1014e2a1625"
      },
      "execution_count": 64,
      "outputs": [
        {
          "output_type": "stream",
          "name": "stdout",
          "text": [
            "Hola mundo 2\n"
          ]
        }
      ]
    },
    {
      "cell_type": "code",
      "source": [
        "print(\"\\tHola amigos\")"
      ],
      "metadata": {
        "colab": {
          "base_uri": "https://localhost:8080/"
        },
        "id": "J4Pv0QT24Uwm",
        "outputId": "c82e3675-8044-4fe2-d2f9-ae00f3886876"
      },
      "execution_count": 65,
      "outputs": [
        {
          "output_type": "stream",
          "name": "stdout",
          "text": [
            "\tHola amigos\n"
          ]
        }
      ]
    },
    {
      "cell_type": "code",
      "source": [
        "print(\"Mis amigos son: \\t\\n Joan \\n\\t Jaime\")"
      ],
      "metadata": {
        "colab": {
          "base_uri": "https://localhost:8080/"
        },
        "id": "BjrApcyO4b7g",
        "outputId": "0e3a43b9-1bbb-478c-a520-27f8eb6aa619"
      },
      "execution_count": 66,
      "outputs": [
        {
          "output_type": "stream",
          "name": "stdout",
          "text": [
            "Mis amigos son: \t\n",
            " Joan \n",
            "\t Jaime\n"
          ]
        }
      ]
    },
    {
      "cell_type": "code",
      "source": [
        "import time \n",
        "time.time()"
      ],
      "metadata": {
        "colab": {
          "base_uri": "https://localhost:8080/"
        },
        "id": "PJJdbr7LylIu",
        "outputId": "0f7170a7-fcb8-4338-aa8b-3603ddcc1014"
      },
      "execution_count": 67,
      "outputs": [
        {
          "output_type": "execute_result",
          "data": {
            "text/plain": [
              "1677117191.0982304"
            ]
          },
          "metadata": {},
          "execution_count": 67
        }
      ]
    },
    {
      "cell_type": "markdown",
      "source": [
        "**Python es un lenguaje orientado a objetos"
      ],
      "metadata": {
        "id": "RVzZ4IqwzrYU"
      }
    },
    {
      "cell_type": "code",
      "source": [
        "a=4"
      ],
      "metadata": {
        "id": "3kmiLoPDzjEC"
      },
      "execution_count": 68,
      "outputs": []
    },
    {
      "cell_type": "code",
      "source": [
        "a =\"esto es una linea de texto\"\n",
        "print(a)"
      ],
      "metadata": {
        "colab": {
          "base_uri": "https://localhost:8080/"
        },
        "id": "EhIpHNkvz2R6",
        "outputId": "f2fb733e-dc9c-4a70-e591-47042b86e307"
      },
      "execution_count": 69,
      "outputs": [
        {
          "output_type": "stream",
          "name": "stdout",
          "text": [
            "esto es una linea de texto\n"
          ]
        }
      ]
    },
    {
      "cell_type": "code",
      "source": [
        "print(\"El tiempo de demora del proceso es de 1677114178.750511 - 1677114134.6833987 segundos\")"
      ],
      "metadata": {
        "colab": {
          "base_uri": "https://localhost:8080/"
        },
        "id": "xSway9zA0juG",
        "outputId": "70c71cdf-5019-4b1b-e513-698b74fe9536"
      },
      "execution_count": 70,
      "outputs": [
        {
          "output_type": "stream",
          "name": "stdout",
          "text": [
            "El tiempo de demora del proceso es de 1677114178.750511 - 1677114134.6833987 segundos\n"
          ]
        }
      ]
    },
    {
      "cell_type": "code",
      "source": [
        "print('El tiempo de demora del proceso es de 1677114178.750511 - 1677114134.6833987 segundo')"
      ],
      "metadata": {
        "colab": {
          "base_uri": "https://localhost:8080/"
        },
        "id": "JCNOL2zd1Smu",
        "outputId": "26c1a5e1-3841-4033-a73c-f0b87c71b306"
      },
      "execution_count": 71,
      "outputs": [
        {
          "output_type": "stream",
          "name": "stdout",
          "text": [
            "El tiempo de demora del proceso es de 1677114178.750511 - 1677114134.6833987 segundo\n"
          ]
        }
      ]
    },
    {
      "cell_type": "code",
      "source": [
        "start = time.time()\n",
        "print('proceso')\n",
        "time_elapsed = time.time() - start\n",
        "\n",
        "print(f\"El tiempo de demora del proceso es de {time_elapsed} segundos\")"
      ],
      "metadata": {
        "colab": {
          "base_uri": "https://localhost:8080/"
        },
        "id": "fxbQh-u41xO2",
        "outputId": "58556894-db6d-48d5-ecc3-5eac904d27e9"
      },
      "execution_count": 72,
      "outputs": [
        {
          "output_type": "stream",
          "name": "stdout",
          "text": [
            "proceso\n",
            "El tiempo de demora del proceso es de 0.0001575946807861328 segundos\n"
          ]
        }
      ]
    },
    {
      "cell_type": "code",
      "source": [
        "print(\"Jhon's\")\n",
        "print('Jhon\"s')"
      ],
      "metadata": {
        "colab": {
          "base_uri": "https://localhost:8080/"
        },
        "id": "hmSeg2zX2576",
        "outputId": "cbbbfd51-0af5-4b0c-c7ea-2ffb188bb97c"
      },
      "execution_count": 73,
      "outputs": [
        {
          "output_type": "stream",
          "name": "stdout",
          "text": [
            "Jhon's\n",
            "Jhon\"s\n"
          ]
        }
      ]
    },
    {
      "cell_type": "markdown",
      "source": [
        "## Estructuras de Python\n"
      ],
      "metadata": {
        "id": "1awtLBri5Q5p"
      }
    },
    {
      "cell_type": "markdown",
      "source": [
        "**Listas**\n",
        "\n",
        "> Con corchetes y entre comas\n",
        "\n",
        "\n"
      ],
      "metadata": {
        "id": "EPKAbQmD5eeF"
      }
    },
    {
      "cell_type": "code",
      "source": [
        "my_list=[1,2,3,\"Hola\",[4,5], None,43]"
      ],
      "metadata": {
        "id": "fesc5fni52N3"
      },
      "execution_count": 51,
      "outputs": []
    },
    {
      "cell_type": "code",
      "source": [
        "my_algorithms = [\"lr\",\"dtree\",\"rf\",\"xgboost\"]\n",
        "print(my_algorithms)"
      ],
      "metadata": {
        "colab": {
          "base_uri": "https://localhost:8080/"
        },
        "id": "OX5OVEZ990UQ",
        "outputId": "3ca7656e-98a3-4fb7-e7cd-5d09f35f4e51"
      },
      "execution_count": 56,
      "outputs": [
        {
          "output_type": "stream",
          "name": "stdout",
          "text": [
            "['lr', 'dtree', 'rf', 'xgboost']\n"
          ]
        }
      ]
    },
    {
      "cell_type": "markdown",
      "source": [
        "## Iteraciones"
      ],
      "metadata": {
        "id": "97fCMqfw9q7n"
      }
    },
    {
      "cell_type": "code",
      "source": [
        "for x in [2,3,4,5]:\n",
        "  print(x**2)"
      ],
      "metadata": {
        "colab": {
          "base_uri": "https://localhost:8080/"
        },
        "id": "7HDN3IMV4SEi",
        "outputId": "57bef331-3322-4b23-fe39-74cc64762d46"
      },
      "execution_count": 53,
      "outputs": [
        {
          "output_type": "stream",
          "name": "stdout",
          "text": [
            "4\n",
            "9\n",
            "16\n",
            "25\n"
          ]
        }
      ]
    },
    {
      "cell_type": "code",
      "source": [
        "for x in my_algorithms:\n",
        "  print(f\"Ejecutando el algoritmo: {x}\")"
      ],
      "metadata": {
        "colab": {
          "base_uri": "https://localhost:8080/"
        },
        "id": "60lDOVpu-HWD",
        "outputId": "c1dab6cc-f822-4443-e545-700f53b027ec"
      },
      "execution_count": 74,
      "outputs": [
        {
          "output_type": "stream",
          "name": "stdout",
          "text": [
            "Ejecutando el algoritmo: lr\n",
            "Ejecutando el algoritmo: dtree\n",
            "Ejecutando el algoritmo: rf\n",
            "Ejecutando el algoritmo: xgboost\n"
          ]
        }
      ]
    },
    {
      "cell_type": "code",
      "source": [
        "6==6"
      ],
      "metadata": {
        "colab": {
          "base_uri": "https://localhost:8080/"
        },
        "id": "nFOPhwQt_FRq",
        "outputId": "01843fae-c038-4f90-bb0f-594d2fa183c7"
      },
      "execution_count": 79,
      "outputs": [
        {
          "output_type": "execute_result",
          "data": {
            "text/plain": [
              "True"
            ]
          },
          "metadata": {},
          "execution_count": 79
        }
      ]
    },
    {
      "cell_type": "code",
      "source": [
        "9%3 == 0"
      ],
      "metadata": {
        "colab": {
          "base_uri": "https://localhost:8080/"
        },
        "id": "s5Hl7pbHAyMa",
        "outputId": "c8ebe816-4a11-4b5b-b79d-29ea1988eead"
      },
      "execution_count": 80,
      "outputs": [
        {
          "output_type": "execute_result",
          "data": {
            "text/plain": [
              "True"
            ]
          },
          "metadata": {},
          "execution_count": 80
        }
      ]
    },
    {
      "cell_type": "code",
      "source": [
        "for i in range(1,11):\n",
        "  if i%3 == 0 :\n",
        "    text = \"es \"\n",
        "  else:\n",
        "    text = \"no es \"\n",
        "  print(f\"El número {i} {text}múltiplo de 3\")"
      ],
      "metadata": {
        "colab": {
          "base_uri": "https://localhost:8080/"
        },
        "id": "129v0uSmA3UI",
        "outputId": "cd745b78-bb2a-48fd-ec51-87a50fce58cf"
      },
      "execution_count": 89,
      "outputs": [
        {
          "output_type": "stream",
          "name": "stdout",
          "text": [
            "El número 1 no es múltiplo de 3\n",
            "El número 2 no es múltiplo de 3\n",
            "El número 3 es múltiplo de 3\n",
            "El número 4 no es múltiplo de 3\n",
            "El número 5 no es múltiplo de 3\n",
            "El número 6 es múltiplo de 3\n",
            "El número 7 no es múltiplo de 3\n",
            "El número 8 no es múltiplo de 3\n",
            "El número 9 es múltiplo de 3\n",
            "El número 10 no es múltiplo de 3\n"
          ]
        }
      ]
    },
    {
      "cell_type": "code",
      "source": [
        "a=time.time()\n",
        "for i in range(1,101):\n",
        "  if i%3 == 0 :\n",
        "    print(f\"El número {i} es múltiplo de 3\")\n",
        "b=time.time()\n",
        "b-a"
      ],
      "metadata": {
        "colab": {
          "base_uri": "https://localhost:8080/"
        },
        "id": "womCls6JBK_-",
        "outputId": "d45dafac-86ca-4f78-bbf5-5e01f4e0d1aa"
      },
      "execution_count": 100,
      "outputs": [
        {
          "output_type": "stream",
          "name": "stdout",
          "text": [
            "El número 3 es múltiplo de 3\n",
            "El número 6 es múltiplo de 3\n",
            "El número 9 es múltiplo de 3\n",
            "El número 12 es múltiplo de 3\n",
            "El número 15 es múltiplo de 3\n",
            "El número 18 es múltiplo de 3\n",
            "El número 21 es múltiplo de 3\n",
            "El número 24 es múltiplo de 3\n",
            "El número 27 es múltiplo de 3\n",
            "El número 30 es múltiplo de 3\n",
            "El número 33 es múltiplo de 3\n",
            "El número 36 es múltiplo de 3\n",
            "El número 39 es múltiplo de 3\n",
            "El número 42 es múltiplo de 3\n",
            "El número 45 es múltiplo de 3\n",
            "El número 48 es múltiplo de 3\n",
            "El número 51 es múltiplo de 3\n",
            "El número 54 es múltiplo de 3\n",
            "El número 57 es múltiplo de 3\n",
            "El número 60 es múltiplo de 3\n",
            "El número 63 es múltiplo de 3\n",
            "El número 66 es múltiplo de 3\n",
            "El número 69 es múltiplo de 3\n",
            "El número 72 es múltiplo de 3\n",
            "El número 75 es múltiplo de 3\n",
            "El número 78 es múltiplo de 3\n",
            "El número 81 es múltiplo de 3\n",
            "El número 84 es múltiplo de 3\n",
            "El número 87 es múltiplo de 3\n",
            "El número 90 es múltiplo de 3\n",
            "El número 93 es múltiplo de 3\n",
            "El número 96 es múltiplo de 3\n",
            "El número 99 es múltiplo de 3\n"
          ]
        },
        {
          "output_type": "execute_result",
          "data": {
            "text/plain": [
              "0.009275674819946289"
            ]
          },
          "metadata": {},
          "execution_count": 100
        }
      ]
    },
    {
      "cell_type": "markdown",
      "source": [
        "# List comprehension"
      ],
      "metadata": {
        "id": "yQyoXFCMJMvQ"
      }
    },
    {
      "cell_type": "code",
      "source": [
        "[x for x in range(0,11) if x%3 ==0]"
      ],
      "metadata": {
        "colab": {
          "base_uri": "https://localhost:8080/"
        },
        "id": "E8mz1fY1JQZh",
        "outputId": "a44c4ffa-0bfd-47f6-92e0-6784a4655f76"
      },
      "execution_count": 101,
      "outputs": [
        {
          "output_type": "execute_result",
          "data": {
            "text/plain": [
              "[0, 3, 6, 9]"
            ]
          },
          "metadata": {},
          "execution_count": 101
        }
      ]
    },
    {
      "cell_type": "code",
      "source": [
        "[x**2 + 2*x for x in range (0,11)]"
      ],
      "metadata": {
        "colab": {
          "base_uri": "https://localhost:8080/"
        },
        "id": "CRs1nQpIJfSs",
        "outputId": "c4079122-c4f5-4b1b-f937-d0cb94f9787b"
      },
      "execution_count": 102,
      "outputs": [
        {
          "output_type": "execute_result",
          "data": {
            "text/plain": [
              "[0, 3, 8, 15, 24, 35, 48, 63, 80, 99, 120]"
            ]
          },
          "metadata": {},
          "execution_count": 102
        }
      ]
    }
  ]
}