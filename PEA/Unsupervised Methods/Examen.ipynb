{
  "cells": [
    {
      "cell_type": "markdown",
      "metadata": {
        "id": "view-in-github",
        "colab_type": "text"
      },
      "source": [
        "<a href=\"https://colab.research.google.com/github/user1855/DMC_courses/blob/main/PEA/Unsupervised%20Methods/Examen.ipynb\" target=\"_parent\"><img src=\"https://colab.research.google.com/assets/colab-badge.svg\" alt=\"Open In Colab\"/></a>"
      ]
    },
    {
      "cell_type": "markdown",
      "metadata": {
        "id": "GeEUhFtsgECN"
      },
      "source": [
        "# Machine Learning no Supervisado"
      ]
    },
    {
      "cell_type": "markdown",
      "metadata": {
        "id": "klFB8SMVjhKt"
      },
      "source": [
        "## Aplicación de Reducción Dimensional en la Visualización del Clustering"
      ]
    },
    {
      "cell_type": "markdown",
      "metadata": {
        "id": "j_PJ-bQmnJP8"
      },
      "source": [
        "---"
      ]
    },
    {
      "cell_type": "code",
      "execution_count": null,
      "metadata": {
        "id": "E9R6dNJTgECS"
      },
      "outputs": [],
      "source": [
        "# Importar las librerías\n",
        "import numpy as np\n",
        "import matplotlib.pyplot as plt\n",
        "import pandas as pd\n",
        "from sklearn.cluster import KMeans\n",
        "import scipy.cluster.hierarchy as sch\n",
        "from sklearn.cluster import AgglomerativeClustering\n",
        "\n",
        "import warnings\n",
        "warnings.filterwarnings('ignore')\n",
        "\n",
        "# para componentes principales\n",
        "from sklearn.decomposition import PCA\n",
        "from sklearn.preprocessing import StandardScaler\n",
        "\n",
        "# visualization\n",
        "import seaborn as sns\n"
      ]
    },
    {
      "cell_type": "code",
      "execution_count": null,
      "metadata": {
        "id": "pzS4q4ZDhEZy"
      },
      "outputs": [],
      "source": [
        "from google.colab import drive\n",
        "drive.mount('/content/drive')"
      ]
    },
    {
      "cell_type": "markdown",
      "metadata": {
        "id": "4Ag-Zs1miwyA"
      },
      "source": [
        "## 1. Tomar el dataset y reducir a 2 componentes principales."
      ]
    },
    {
      "cell_type": "code",
      "execution_count": null,
      "metadata": {
        "colab": {
          "base_uri": "https://localhost:8080/",
          "height": 206
        },
        "id": "Na7qc4F6gJma",
        "outputId": "ca039d63-7ba4-4a57-cae1-2bf549652294"
      },
      "outputs": [
        {
          "data": {
            "text/html": [
              "<div>\n",
              "<style scoped>\n",
              "    .dataframe tbody tr th:only-of-type {\n",
              "        vertical-align: middle;\n",
              "    }\n",
              "\n",
              "    .dataframe tbody tr th {\n",
              "        vertical-align: top;\n",
              "    }\n",
              "\n",
              "    .dataframe thead th {\n",
              "        text-align: right;\n",
              "    }\n",
              "</style>\n",
              "<table border=\"1\" class=\"dataframe\">\n",
              "  <thead>\n",
              "    <tr style=\"text-align: right;\">\n",
              "      <th></th>\n",
              "      <th>CustomerID</th>\n",
              "      <th>Genre</th>\n",
              "      <th>Age</th>\n",
              "      <th>Annual Income (k$)</th>\n",
              "      <th>Spending Score (1-100)</th>\n",
              "    </tr>\n",
              "  </thead>\n",
              "  <tbody>\n",
              "    <tr>\n",
              "      <th>0</th>\n",
              "      <td>1</td>\n",
              "      <td>Male</td>\n",
              "      <td>19</td>\n",
              "      <td>15</td>\n",
              "      <td>39</td>\n",
              "    </tr>\n",
              "    <tr>\n",
              "      <th>1</th>\n",
              "      <td>2</td>\n",
              "      <td>Male</td>\n",
              "      <td>21</td>\n",
              "      <td>15</td>\n",
              "      <td>81</td>\n",
              "    </tr>\n",
              "    <tr>\n",
              "      <th>2</th>\n",
              "      <td>3</td>\n",
              "      <td>Female</td>\n",
              "      <td>20</td>\n",
              "      <td>16</td>\n",
              "      <td>6</td>\n",
              "    </tr>\n",
              "    <tr>\n",
              "      <th>3</th>\n",
              "      <td>4</td>\n",
              "      <td>Female</td>\n",
              "      <td>23</td>\n",
              "      <td>16</td>\n",
              "      <td>77</td>\n",
              "    </tr>\n",
              "    <tr>\n",
              "      <th>4</th>\n",
              "      <td>5</td>\n",
              "      <td>Female</td>\n",
              "      <td>31</td>\n",
              "      <td>17</td>\n",
              "      <td>40</td>\n",
              "    </tr>\n",
              "  </tbody>\n",
              "</table>\n",
              "</div>"
            ],
            "text/plain": [
              "   CustomerID   Genre  Age  Annual Income (k$)  Spending Score (1-100)\n",
              "0           1    Male   19                  15                      39\n",
              "1           2    Male   21                  15                      81\n",
              "2           3  Female   20                  16                       6\n",
              "3           4  Female   23                  16                      77\n",
              "4           5  Female   31                  17                      40"
            ]
          },
          "execution_count": 2,
          "metadata": {},
          "output_type": "execute_result"
        }
      ],
      "source": [
        "# Cargamos los datos con pandas.\n",
        "df = pd.read_csv(\"Mall_Customers.csv\")\n",
        "df.head()"
      ]
    },
    {
      "cell_type": "markdown",
      "metadata": {
        "id": "fVQXdpUe_zCK"
      },
      "source": [
        "Eliminamos las variables \"GENRE\" y \"CustomerID\", dado que no aportan a la clusterización. \n",
        "\n",
        "La variable \"CustomerID\" tiene una clasificación igual a la cantidad de observaciones (200).\n",
        "\n",
        "La variable \"GENRE\", es una variable cualitativa, para ello podemos convertir a una variable Dummy para que tome el valor de 0 o 1. Sin embargo, le generará ruido al agrupamiento debido a que las distancias euclidianas se calculan en base a variables cuantitativas. \n",
        "\n"
      ]
    },
    {
      "cell_type": "code",
      "execution_count": null,
      "metadata": {
        "colab": {
          "base_uri": "https://localhost:8080/",
          "height": 206
        },
        "id": "d7uzX85zWI0P",
        "outputId": "40f87d19-03ee-4a25-c99f-085ce3645af6"
      },
      "outputs": [
        {
          "data": {
            "text/html": [
              "<div>\n",
              "<style scoped>\n",
              "    .dataframe tbody tr th:only-of-type {\n",
              "        vertical-align: middle;\n",
              "    }\n",
              "\n",
              "    .dataframe tbody tr th {\n",
              "        vertical-align: top;\n",
              "    }\n",
              "\n",
              "    .dataframe thead th {\n",
              "        text-align: right;\n",
              "    }\n",
              "</style>\n",
              "<table border=\"1\" class=\"dataframe\">\n",
              "  <thead>\n",
              "    <tr style=\"text-align: right;\">\n",
              "      <th></th>\n",
              "      <th>Age</th>\n",
              "      <th>Annual Income (k$)</th>\n",
              "      <th>Spending Score (1-100)</th>\n",
              "    </tr>\n",
              "  </thead>\n",
              "  <tbody>\n",
              "    <tr>\n",
              "      <th>0</th>\n",
              "      <td>19</td>\n",
              "      <td>15</td>\n",
              "      <td>39</td>\n",
              "    </tr>\n",
              "    <tr>\n",
              "      <th>1</th>\n",
              "      <td>21</td>\n",
              "      <td>15</td>\n",
              "      <td>81</td>\n",
              "    </tr>\n",
              "    <tr>\n",
              "      <th>2</th>\n",
              "      <td>20</td>\n",
              "      <td>16</td>\n",
              "      <td>6</td>\n",
              "    </tr>\n",
              "    <tr>\n",
              "      <th>3</th>\n",
              "      <td>23</td>\n",
              "      <td>16</td>\n",
              "      <td>77</td>\n",
              "    </tr>\n",
              "    <tr>\n",
              "      <th>4</th>\n",
              "      <td>31</td>\n",
              "      <td>17</td>\n",
              "      <td>40</td>\n",
              "    </tr>\n",
              "  </tbody>\n",
              "</table>\n",
              "</div>"
            ],
            "text/plain": [
              "   Age  Annual Income (k$)  Spending Score (1-100)\n",
              "0   19                  15                      39\n",
              "1   21                  15                      81\n",
              "2   20                  16                       6\n",
              "3   23                  16                      77\n",
              "4   31                  17                      40"
            ]
          },
          "execution_count": 3,
          "metadata": {},
          "output_type": "execute_result"
        }
      ],
      "source": [
        "df = df.drop(columns = ['Genre','CustomerID'])\n",
        "df.head(5)"
      ]
    },
    {
      "cell_type": "markdown",
      "metadata": {
        "id": "QAwmuZqLAvGr"
      },
      "source": [
        "# 1.1 Estandarización de los datos de cada variable."
      ]
    },
    {
      "cell_type": "code",
      "execution_count": null,
      "metadata": {
        "colab": {
          "base_uri": "https://localhost:8080/",
          "height": 363
        },
        "id": "_lKx-GcqkNxq",
        "outputId": "596c4330-65f5-4e6d-a165-929f5d4b8d66"
      },
      "outputs": [
        {
          "data": {
            "text/html": [
              "<div>\n",
              "<style scoped>\n",
              "    .dataframe tbody tr th:only-of-type {\n",
              "        vertical-align: middle;\n",
              "    }\n",
              "\n",
              "    .dataframe tbody tr th {\n",
              "        vertical-align: top;\n",
              "    }\n",
              "\n",
              "    .dataframe thead th {\n",
              "        text-align: right;\n",
              "    }\n",
              "</style>\n",
              "<table border=\"1\" class=\"dataframe\">\n",
              "  <thead>\n",
              "    <tr style=\"text-align: right;\">\n",
              "      <th></th>\n",
              "      <th>Age</th>\n",
              "      <th>Annual Income (k$)</th>\n",
              "      <th>Spending Score (1-100)</th>\n",
              "    </tr>\n",
              "  </thead>\n",
              "  <tbody>\n",
              "    <tr>\n",
              "      <th>0</th>\n",
              "      <td>-1.424569</td>\n",
              "      <td>-1.738999</td>\n",
              "      <td>-0.434801</td>\n",
              "    </tr>\n",
              "    <tr>\n",
              "      <th>1</th>\n",
              "      <td>-1.281035</td>\n",
              "      <td>-1.738999</td>\n",
              "      <td>1.195704</td>\n",
              "    </tr>\n",
              "    <tr>\n",
              "      <th>2</th>\n",
              "      <td>-1.352802</td>\n",
              "      <td>-1.700830</td>\n",
              "      <td>-1.715913</td>\n",
              "    </tr>\n",
              "    <tr>\n",
              "      <th>3</th>\n",
              "      <td>-1.137502</td>\n",
              "      <td>-1.700830</td>\n",
              "      <td>1.040418</td>\n",
              "    </tr>\n",
              "    <tr>\n",
              "      <th>4</th>\n",
              "      <td>-0.563369</td>\n",
              "      <td>-1.662660</td>\n",
              "      <td>-0.395980</td>\n",
              "    </tr>\n",
              "    <tr>\n",
              "      <th>5</th>\n",
              "      <td>-1.209269</td>\n",
              "      <td>-1.662660</td>\n",
              "      <td>1.001596</td>\n",
              "    </tr>\n",
              "    <tr>\n",
              "      <th>6</th>\n",
              "      <td>-0.276302</td>\n",
              "      <td>-1.624491</td>\n",
              "      <td>-1.715913</td>\n",
              "    </tr>\n",
              "    <tr>\n",
              "      <th>7</th>\n",
              "      <td>-1.137502</td>\n",
              "      <td>-1.624491</td>\n",
              "      <td>1.700384</td>\n",
              "    </tr>\n",
              "    <tr>\n",
              "      <th>8</th>\n",
              "      <td>1.804932</td>\n",
              "      <td>-1.586321</td>\n",
              "      <td>-1.832378</td>\n",
              "    </tr>\n",
              "    <tr>\n",
              "      <th>9</th>\n",
              "      <td>-0.635135</td>\n",
              "      <td>-1.586321</td>\n",
              "      <td>0.846310</td>\n",
              "    </tr>\n",
              "  </tbody>\n",
              "</table>\n",
              "</div>"
            ],
            "text/plain": [
              "        Age  Annual Income (k$)  Spending Score (1-100)\n",
              "0 -1.424569           -1.738999               -0.434801\n",
              "1 -1.281035           -1.738999                1.195704\n",
              "2 -1.352802           -1.700830               -1.715913\n",
              "3 -1.137502           -1.700830                1.040418\n",
              "4 -0.563369           -1.662660               -0.395980\n",
              "5 -1.209269           -1.662660                1.001596\n",
              "6 -0.276302           -1.624491               -1.715913\n",
              "7 -1.137502           -1.624491                1.700384\n",
              "8  1.804932           -1.586321               -1.832378\n",
              "9 -0.635135           -1.586321                0.846310"
            ]
          },
          "execution_count": 4,
          "metadata": {},
          "output_type": "execute_result"
        }
      ],
      "source": [
        "scaler = StandardScaler()\n",
        "estandarizar = scaler.fit_transform(df)\n",
        "estandarizar = pd.DataFrame(estandarizar,columns=list(df.columns))\n",
        "estandarizar.head(10)"
      ]
    },
    {
      "cell_type": "markdown",
      "metadata": {
        "id": "_6r9ILnWA29J"
      },
      "source": [
        "# 1.2 Obtención de los componentes principales"
      ]
    },
    {
      "cell_type": "code",
      "execution_count": null,
      "metadata": {
        "colab": {
          "base_uri": "https://localhost:8080/"
        },
        "id": "KPSUlE08ix_w",
        "outputId": "73a40c28-293b-41cc-897b-87804178b89f"
      },
      "outputs": [
        {
          "data": {
            "text/html": [
              "<style>#sk-container-id-2 {color: black;background-color: white;}#sk-container-id-2 pre{padding: 0;}#sk-container-id-2 div.sk-toggleable {background-color: white;}#sk-container-id-2 label.sk-toggleable__label {cursor: pointer;display: block;width: 100%;margin-bottom: 0;padding: 0.3em;box-sizing: border-box;text-align: center;}#sk-container-id-2 label.sk-toggleable__label-arrow:before {content: \"▸\";float: left;margin-right: 0.25em;color: #696969;}#sk-container-id-2 label.sk-toggleable__label-arrow:hover:before {color: black;}#sk-container-id-2 div.sk-estimator:hover label.sk-toggleable__label-arrow:before {color: black;}#sk-container-id-2 div.sk-toggleable__content {max-height: 0;max-width: 0;overflow: hidden;text-align: left;background-color: #f0f8ff;}#sk-container-id-2 div.sk-toggleable__content pre {margin: 0.2em;color: black;border-radius: 0.25em;background-color: #f0f8ff;}#sk-container-id-2 input.sk-toggleable__control:checked~div.sk-toggleable__content {max-height: 200px;max-width: 100%;overflow: auto;}#sk-container-id-2 input.sk-toggleable__control:checked~label.sk-toggleable__label-arrow:before {content: \"▾\";}#sk-container-id-2 div.sk-estimator input.sk-toggleable__control:checked~label.sk-toggleable__label {background-color: #d4ebff;}#sk-container-id-2 div.sk-label input.sk-toggleable__control:checked~label.sk-toggleable__label {background-color: #d4ebff;}#sk-container-id-2 input.sk-hidden--visually {border: 0;clip: rect(1px 1px 1px 1px);clip: rect(1px, 1px, 1px, 1px);height: 1px;margin: -1px;overflow: hidden;padding: 0;position: absolute;width: 1px;}#sk-container-id-2 div.sk-estimator {font-family: monospace;background-color: #f0f8ff;border: 1px dotted black;border-radius: 0.25em;box-sizing: border-box;margin-bottom: 0.5em;}#sk-container-id-2 div.sk-estimator:hover {background-color: #d4ebff;}#sk-container-id-2 div.sk-parallel-item::after {content: \"\";width: 100%;border-bottom: 1px solid gray;flex-grow: 1;}#sk-container-id-2 div.sk-label:hover label.sk-toggleable__label {background-color: #d4ebff;}#sk-container-id-2 div.sk-serial::before {content: \"\";position: absolute;border-left: 1px solid gray;box-sizing: border-box;top: 0;bottom: 0;left: 50%;z-index: 0;}#sk-container-id-2 div.sk-serial {display: flex;flex-direction: column;align-items: center;background-color: white;padding-right: 0.2em;padding-left: 0.2em;position: relative;}#sk-container-id-2 div.sk-item {position: relative;z-index: 1;}#sk-container-id-2 div.sk-parallel {display: flex;align-items: stretch;justify-content: center;background-color: white;position: relative;}#sk-container-id-2 div.sk-item::before, #sk-container-id-2 div.sk-parallel-item::before {content: \"\";position: absolute;border-left: 1px solid gray;box-sizing: border-box;top: 0;bottom: 0;left: 50%;z-index: -1;}#sk-container-id-2 div.sk-parallel-item {display: flex;flex-direction: column;z-index: 1;position: relative;background-color: white;}#sk-container-id-2 div.sk-parallel-item:first-child::after {align-self: flex-end;width: 50%;}#sk-container-id-2 div.sk-parallel-item:last-child::after {align-self: flex-start;width: 50%;}#sk-container-id-2 div.sk-parallel-item:only-child::after {width: 0;}#sk-container-id-2 div.sk-dashed-wrapped {border: 1px dashed gray;margin: 0 0.4em 0.5em 0.4em;box-sizing: border-box;padding-bottom: 0.4em;background-color: white;}#sk-container-id-2 div.sk-label label {font-family: monospace;font-weight: bold;display: inline-block;line-height: 1.2em;}#sk-container-id-2 div.sk-label-container {text-align: center;}#sk-container-id-2 div.sk-container {/* jupyter's `normalize.less` sets `[hidden] { display: none; }` but bootstrap.min.css set `[hidden] { display: none !important; }` so we also need the `!important` here to be able to override the default hidden behavior on the sphinx rendered scikit-learn.org. See: https://github.com/scikit-learn/scikit-learn/issues/21755 */display: inline-block !important;position: relative;}#sk-container-id-2 div.sk-text-repr-fallback {display: none;}</style><div id=\"sk-container-id-2\" class=\"sk-top-container\"><div class=\"sk-text-repr-fallback\"><pre>PCA(n_components=2)</pre><b>In a Jupyter environment, please rerun this cell to show the HTML representation or trust the notebook. <br />On GitHub, the HTML representation is unable to render, please try loading this page with nbviewer.org.</b></div><div class=\"sk-container\" hidden><div class=\"sk-item\"><div class=\"sk-estimator sk-toggleable\"><input class=\"sk-toggleable__control sk-hidden--visually\" id=\"sk-estimator-id-2\" type=\"checkbox\" checked><label for=\"sk-estimator-id-2\" class=\"sk-toggleable__label sk-toggleable__label-arrow\">PCA</label><div class=\"sk-toggleable__content\"><pre>PCA(n_components=2)</pre></div></div></div></div></div>"
            ],
            "text/plain": [
              "PCA(n_components=2)"
            ]
          },
          "execution_count": 9,
          "metadata": {},
          "output_type": "execute_result"
        }
      ],
      "source": [
        "# Paso 3: Reducimos el dataset a 2 componentes principales\n",
        "sklearn_pca = PCA(n_components=2)\n",
        "sklearn_pca.fit(estandarizar)"
      ]
    },
    {
      "cell_type": "code",
      "execution_count": null,
      "metadata": {
        "colab": {
          "base_uri": "https://localhost:8080/"
        },
        "id": "PWaNV2o4lxzQ",
        "outputId": "cd7ae1d5-5084-4014-f48b-39f6319e8aac"
      },
      "outputs": [
        {
          "name": "stdout",
          "output_type": "stream",
          "text": [
            "[[ 0.70638235 -0.04802398 -0.70619946]\n",
            " [ 0.03014116  0.9988316  -0.03777499]]\n",
            "[1.33465831 1.00427272]\n"
          ]
        }
      ],
      "source": [
        "# Obtenemos los eigenvectores y eigenvalores\n",
        "print(sklearn_pca.components_) # eigenvectores\n",
        "print(sklearn_pca.explained_variance_) # eigenvalores"
      ]
    },
    {
      "cell_type": "code",
      "execution_count": null,
      "metadata": {
        "colab": {
          "base_uri": "https://localhost:8080/"
        },
        "id": "5uD7KTwFl2dS",
        "outputId": "ededa996-bf5c-47ed-9c77-a74e80f2ebde"
      },
      "outputs": [
        {
          "data": {
            "text/plain": [
              "array([0.44266167, 0.33308378])"
            ]
          },
          "execution_count": 11,
          "metadata": {},
          "output_type": "execute_result"
        }
      ],
      "source": [
        "# Obtenemos la varianza explicada por cada componente prinicpal\n",
        "sklearn_pca.explained_variance_ratio_"
      ]
    },
    {
      "cell_type": "code",
      "execution_count": null,
      "metadata": {
        "colab": {
          "base_uri": "https://localhost:8080/"
        },
        "id": "GET5ckLVl69w",
        "outputId": "981cbd1d-2bf6-425b-baae-89b3a0eba251"
      },
      "outputs": [
        {
          "data": {
            "text/plain": [
              "array([0.44266167, 0.77574546])"
            ]
          },
          "execution_count": 12,
          "metadata": {},
          "output_type": "execute_result"
        }
      ],
      "source": [
        "# Los 2 componentes principales explican el 77.5% de la varianza total.\n",
        "np.cumsum(sklearn_pca.explained_variance_ratio_)"
      ]
    },
    {
      "cell_type": "markdown",
      "metadata": {
        "id": "1e1JtRYfm3GS"
      },
      "source": [
        "# 1.3 Obtener la matriz de proyección a partir de 2 componentes principales"
      ]
    },
    {
      "cell_type": "code",
      "execution_count": null,
      "metadata": {
        "colab": {
          "base_uri": "https://localhost:8080/",
          "height": 175
        },
        "id": "KzBMrP3um4Wf",
        "outputId": "8fe9a28e-2177-4077-a953-69e14791fc38"
      },
      "outputs": [
        {
          "data": {
            "text/html": [
              "<div>\n",
              "<style scoped>\n",
              "    .dataframe tbody tr th:only-of-type {\n",
              "        vertical-align: middle;\n",
              "    }\n",
              "\n",
              "    .dataframe tbody tr th {\n",
              "        vertical-align: top;\n",
              "    }\n",
              "\n",
              "    .dataframe thead th {\n",
              "        text-align: right;\n",
              "    }\n",
              "</style>\n",
              "<table border=\"1\" class=\"dataframe\">\n",
              "  <thead>\n",
              "    <tr style=\"text-align: right;\">\n",
              "      <th></th>\n",
              "      <th>PC1</th>\n",
              "      <th>PC2</th>\n",
              "    </tr>\n",
              "    <tr>\n",
              "      <th>variable</th>\n",
              "      <th></th>\n",
              "      <th></th>\n",
              "    </tr>\n",
              "  </thead>\n",
              "  <tbody>\n",
              "    <tr>\n",
              "      <th>Age</th>\n",
              "      <td>0.706382</td>\n",
              "      <td>0.030141</td>\n",
              "    </tr>\n",
              "    <tr>\n",
              "      <th>Annual Income (k$)</th>\n",
              "      <td>-0.048024</td>\n",
              "      <td>0.998832</td>\n",
              "    </tr>\n",
              "    <tr>\n",
              "      <th>Spending Score (1-100)</th>\n",
              "      <td>-0.706199</td>\n",
              "      <td>-0.037775</td>\n",
              "    </tr>\n",
              "  </tbody>\n",
              "</table>\n",
              "</div>"
            ],
            "text/plain": [
              "                             PC1       PC2\n",
              "variable                                  \n",
              "Age                     0.706382  0.030141\n",
              "Annual Income (k$)     -0.048024  0.998832\n",
              "Spending Score (1-100) -0.706199 -0.037775"
            ]
          },
          "execution_count": 13,
          "metadata": {},
          "output_type": "execute_result"
        }
      ],
      "source": [
        "\n",
        "loadings = sklearn_pca.components_\n",
        "num_pc = sklearn_pca.n_features_\n",
        "pc_list = [\"PC\"+str(i) for i in list(range(1, num_pc+1))]\n",
        "loadings_df = pd.DataFrame.from_dict(dict(zip(pc_list, loadings)))\n",
        "loadings_df['variable'] = df.columns.values\n",
        "loadings_df = loadings_df.set_index('variable')\n",
        "loadings_df"
      ]
    },
    {
      "cell_type": "code",
      "execution_count": null,
      "metadata": {
        "id": "QgSqJLV8aOL8"
      },
      "outputs": [],
      "source": [
        "# Combinación lineal de cada componente principal\n",
        "\n",
        "# PC1 =\t \t0.706382*Age - 0.048024*Annual_Income_(k$) - 0.706199*Spending_Score_(1-100)\n",
        "# PC2 =\t 0.030141*Age + 0.998832*Annual_Income_(k$) - 0.037775*Spending_Score_(1-100)"
      ]
    },
    {
      "cell_type": "code",
      "execution_count": null,
      "metadata": {
        "colab": {
          "base_uri": "https://localhost:8080/",
          "height": 592
        },
        "id": "SlLfcFyCa-el",
        "outputId": "067c0756-7dda-461f-94c9-0edb44f39b59"
      },
      "outputs": [
        {
          "data": {
            "image/png": "[encoded data removed]",
            "text/plain": [
              "<Figure size 1152x720 with 2 Axes>"
            ]
          },
          "metadata": {
            "needs_background": "light"
          },
          "output_type": "display_data"
        }
      ],
      "source": [
        "# Analizamos la matriz de proyección para determinar el peso de las variables originales en cada componente principal\n",
        "plt.figure(figsize=(16,10))\n",
        "ax = sns.heatmap(loadings_df, annot=True, cmap='Blues')\n",
        "plt.show()"
      ]
    },
    {
      "cell_type": "markdown",
      "metadata": {
        "id": "X0h_kxLBDEUA"
      },
      "source": [
        "# 1.4 Cálculo del nuevo espacio de características bi-dimensional"
      ]
    },
    {
      "cell_type": "code",
      "execution_count": null,
      "metadata": {
        "colab": {
          "base_uri": "https://localhost:8080/"
        },
        "id": "fYJFH1mddIiN",
        "outputId": "fca7fbb1-dc1d-4792-91fe-c3b9683e2f1e"
      },
      "outputs": [
        {
          "data": {
            "text/plain": [
              "array([[-6.15720019e-01, -1.76348088e+00],\n",
              "       [-1.66579271e+00, -1.82074695e+00],\n",
              "       [ 3.37861909e-01, -1.67479894e+00],\n",
              "       [-1.45657325e+00, -1.77242992e+00],\n",
              "       [-3.84652078e-02, -1.66274012e+00],\n",
              "       [-1.48168526e+00, -1.73500173e+00],\n",
              "       [ 1.09461665e+00, -1.56610230e+00],\n",
              "       [-1.92630736e+00, -1.72111049e+00],\n",
              "       [ 2.64517786e+00, -1.46084721e+00],\n",
              "       [-9.70130513e-01, -1.63558108e+00],\n",
              "       [ 2.49568861e+00, -1.47048914e+00],\n",
              "       [-1.45688256e+00, -1.66436050e+00],\n",
              "       [ 2.01018729e+00, -1.45329897e+00],\n",
              "       [-1.41321072e+00, -1.61776746e+00],\n",
              "       [ 1.00042965e+00, -1.49579176e+00],\n",
              "       [-1.56943170e+00, -1.62502669e+00],\n",
              "       [ 2.94060318e-01, -1.49425585e+00],\n",
              "       [-1.31624924e+00, -1.57216383e+00],\n",
              "       [ 1.31669910e+00, -1.37243404e+00],\n",
              "       [-1.43679899e+00, -1.51039469e+00],\n",
              "       [ 2.88561175e-01, -1.37988135e+00],\n",
              "       [-1.26018513e+00, -1.45723906e+00],\n",
              "       [ 1.66684303e+00, -1.27396755e+00],\n",
              "       [-9.57849842e-01, -1.40613544e+00],\n",
              "       [ 1.82015978e+00, -1.15548636e+00],\n",
              "       [-1.31148032e+00, -1.30928557e+00],\n",
              "       [ 8.70423506e-01, -1.20135126e+00],\n",
              "       [-4.31580912e-01, -1.26551061e+00],\n",
              "       [ 6.42532610e-01, -1.17257560e+00],\n",
              "       [-1.75456053e+00, -1.29147195e+00],\n",
              "       [ 2.39481968e+00, -1.05159306e+00],\n",
              "       [-1.47396231e+00, -1.23714260e+00],\n",
              "       [ 2.03445748e+00, -9.52360489e-01],\n",
              "       [-2.15244516e+00, -1.15712070e+00],\n",
              "       [ 1.55752093e+00, -9.75677856e-01],\n",
              "       [-1.69878757e+00, -1.13449998e+00],\n",
              "       [ 1.11857753e+00, -9.57094397e-01],\n",
              "       [-1.02504199e+00, -1.06517509e+00],\n",
              "       [ 5.62168164e-01, -8.68897047e-01],\n",
              "       [-1.59231990e+00, -9.75364875e-01],\n",
              "       [ 1.78374019e+00, -7.81239761e-01],\n",
              "       [-1.85744206e+00, -9.53517749e-01],\n",
              "       [ 8.92681088e-01, -7.81354648e-01],\n",
              "       [-6.54523328e-01, -8.54789987e-01],\n",
              "       [ 1.16270193e+00, -7.67459643e-01],\n",
              "       [-1.11904945e+00, -8.75797844e-01],\n",
              "       [ 4.71337946e-01, -7.66766753e-01],\n",
              "       [-4.75314553e-01, -8.04786902e-01],\n",
              "       [-2.36846282e-01, -7.93128219e-01],\n",
              "       [-1.35456836e-01, -7.88801956e-01],\n",
              "       [ 4.99224424e-01, -6.88280768e-01],\n",
              "       [-5.31217261e-01, -7.34622744e-01],\n",
              "       [-4.69945162e-01, -6.92025270e-01],\n",
              "       [ 7.85012481e-01, -6.40256495e-01],\n",
              "       [ 7.39996455e-01, -6.37727415e-01],\n",
              "       [ 6.97575348e-01, -6.38350873e-01],\n",
              "       [ 6.51779304e-01, -6.04771873e-01],\n",
              "       [ 1.67394737e+00, -5.59969570e-01],\n",
              "       [-5.95975901e-01, -5.81903848e-01],\n",
              "       [ 8.59165715e-01, -5.18330009e-01],\n",
              "       [ 1.44681835e+00, -4.96221617e-01],\n",
              "       [-1.11119674e+00, -6.05074836e-01],\n",
              "       [ 1.40256419e+00, -4.58720242e-01],\n",
              "       [ 5.51622442e-01, -4.97106340e-01],\n",
              "       [ 1.22536802e+00, -4.27781452e-01],\n",
              "       [-1.27522062e+00, -5.36854240e-01],\n",
              "       [ 2.38889332e-01, -4.69577597e-01],\n",
              "       [ 1.56108893e+00, -4.12566342e-01],\n",
              "       [-1.22452590e+00, -5.34691109e-01],\n",
              "       [-2.36505322e-01, -4.88972590e-01],\n",
              "       [ 1.46873497e+00, -3.80380637e-01],\n",
              "       [ 6.59161297e-01, -4.11068365e-01],\n",
              "       [ 1.12444929e+00, -3.55088214e-01],\n",
              "       [ 9.32538930e-01, -3.65353603e-01],\n",
              "       [ 1.12125390e+00, -2.01819049e-01],\n",
              "       [-7.43582301e-01, -2.83467776e-01],\n",
              "       [ 2.47033195e-01, -2.40901795e-01],\n",
              "       [ 1.30638408e-01, -2.44385031e-01],\n",
              "       [-8.40834938e-01, -2.87024202e-01],\n",
              "       [ 7.51385503e-01, -2.16117943e-01],\n",
              "       [ 9.10201397e-01, -2.12011249e-01],\n",
              "       [-1.62661394e-01, -2.58976683e-01],\n",
              "       [ 1.69130628e+00, -1.75715093e-01],\n",
              "       [ 5.44469805e-01, -2.25540306e-01],\n",
              "       [-1.07930321e+00, -2.98682886e-01],\n",
              "       [ 5.91027720e-01, -2.24147011e-01],\n",
              "       [ 6.11402452e-01, -1.12228405e-01],\n",
              "       [-9.79276100e-01, -1.79212290e-01],\n",
              "       [-5.09851302e-01, -1.22462302e-01],\n",
              "       [ 6.85084974e-01, -6.73214206e-02],\n",
              "       [ 1.34901505e+00, -3.45858031e-03],\n",
              "       [-8.01900373e-01, -9.10843739e-02],\n",
              "       [ 4.97782137e-01,  2.02527834e-04],\n",
              "       [ 3.38966243e-01, -3.90416610e-03],\n",
              "       [-1.21423069e-01, -2.41421860e-02],\n",
              "       [-8.01138502e-01, -5.61120793e-02],\n",
              "       [ 5.01918945e-01,  9.72364749e-04],\n",
              "       [-5.94222804e-01, -4.66897166e-02],\n",
              "       [ 6.87859446e-01,  4.85927490e-02],\n",
              "       [-9.23503145e-01, -2.22403206e-02],\n",
              "       [-5.53925903e-01,  3.41057790e-02],\n",
              "       [ 5.72226530e-01,  8.00818073e-02],\n",
              "       [ 1.18315812e+00,  1.02886847e-01],\n",
              "       [-7.85662448e-01,  2.00643949e-02],\n",
              "       [ 3.52900408e-01,  6.83499339e-02],\n",
              "       [-6.82731113e-01,  2.83130320e-02],\n",
              "       [ 1.37737224e+00,  1.52046905e-01],\n",
              "       [ 8.78698626e-01,  1.31955265e-01],\n",
              "       [ 1.67067204e+00,  1.66638557e-01],\n",
              "       [ 1.43220377e+00,  1.54979874e-01],\n",
              "       [ 1.27184598e+00,  1.46950806e-01],\n",
              "       [-1.11494279e+00,  4.45137909e-02],\n",
              "       [ 1.75413076e-01,  1.41335930e-01],\n",
              "       [-8.97449715e-01,  9.43704962e-02],\n",
              "       [-1.00480902e+00,  1.27399228e-01],\n",
              "       [-1.00894582e+00,  1.26629391e-01],\n",
              "       [ 1.41353233e+00,  2.32072564e-01],\n",
              "       [ 2.65153969e-01,  1.78324977e-01],\n",
              "       [ 8.01529563e-01,  2.82364651e-01],\n",
              "       [ 3.67014127e-01,  2.59670741e-01],\n",
              "       [-7.71548729e-01,  2.11385202e-01],\n",
              "       [ 2.24745464e-01,  2.58643394e-01],\n",
              "       [-1.71014961e-01,  3.12822606e-01],\n",
              "       [-1.12642994e+00,  2.62265497e-01],\n",
              "       [-2.39601102e-01,  3.56702245e-01],\n",
              "       [-1.15000005e+00,  3.03616056e-01],\n",
              "       [ 6.07965712e-01,  4.29290800e-01],\n",
              "       [-1.18906437e+00,  3.34812355e-01],\n",
              "       [ 2.07705964e+00,  4.99096524e-01],\n",
              "       [-7.42138510e-01,  3.59815776e-01],\n",
              "       [ 1.52355450e+00,  4.76071915e-01],\n",
              "       [-6.91443788e-01,  3.61978907e-01],\n",
              "       [-2.78956578e-01,  4.29945750e-01],\n",
              "       [-9.89171556e-01,  3.88664624e-01],\n",
              "       [ 2.60793952e-01,  4.99782966e-01],\n",
              "       [-1.55846206e+00,  3.97532962e-01],\n",
              "       [ 1.42263577e+00,  5.48765152e-01],\n",
              "       [-9.95141411e-01,  4.26019619e-01],\n",
              "       [ 7.11873557e-02,  5.28412246e-01],\n",
              "       [-8.17474526e-01,  4.72100330e-01],\n",
              "       [ 2.13283260e+00,  6.56068493e-01],\n",
              "       [-1.54712281e+00,  4.72939600e-01],\n",
              "       [-2.98699193e-01,  5.80135567e-01],\n",
              "       [-1.38446127e+00,  5.19863337e-01],\n",
              "       [ 3.15025018e-01,  6.52832562e-01],\n",
              "       [-1.86323086e+00,  5.34670801e-01],\n",
              "       [ 8.23025274e-01,  6.67388965e-01],\n",
              "       [-1.02988937e+00,  5.77052463e-01],\n",
              "       [ 4.95286822e-01,  6.95760735e-01],\n",
              "       [-1.36898521e+00,  5.96039811e-01],\n",
              "       [ 1.08861815e+00,  7.22561339e-01],\n",
              "       [-1.06068007e+00,  6.09788436e-01],\n",
              "       [ 1.05706558e+00,  7.20325018e-01],\n",
              "       [-7.82385610e-01,  6.25223115e-01],\n",
              "       [ 1.31881281e+00,  7.32680349e-01],\n",
              "       [-1.69643251e+00,  5.82364375e-01],\n",
              "       [ 1.22310206e+00,  7.33046297e-01],\n",
              "       [-1.24277492e+00,  6.04985095e-01],\n",
              "       [ 1.07101789e+00,  7.26556903e-01],\n",
              "       [-1.10569610e+00,  6.12317516e-01],\n",
              "       [ 1.25233272e+00,  7.62410164e-01],\n",
              "       [-1.43238152e+00,  6.33614375e-01],\n",
              "       [ 1.95434848e-01,  8.02618490e-01],\n",
              "       [-1.60881582e+00,  6.99525460e-01],\n",
              "       [ 1.18390799e+00,  9.91378725e-01],\n",
              "       [-8.69190624e-01,  8.89237160e-01],\n",
              "       [ 9.41011752e-01,  1.02099741e+00],\n",
              "       [-1.57142314e+00,  8.91542914e-01],\n",
              "       [ 4.43100011e-01,  1.03587806e+00],\n",
              "       [-7.46646428e-01,  9.74432108e-01],\n",
              "       [ 1.02969962e+00,  1.06506137e+00],\n",
              "       [-1.27841450e+00,  9.48181772e-01],\n",
              "       [ 9.09168020e-01,  1.06080830e+00],\n",
              "       [-1.33892473e+00,  9.40556593e-01],\n",
              "       [ 1.63620324e+00,  1.12914378e+00],\n",
              "       [-1.48043152e+00,  9.74501541e-01],\n",
              "       [ 1.88554005e+00,  1.13918960e+00],\n",
              "       [-1.16644768e+00,  9.92942378e-01],\n",
              "       [ 1.95448529e+00,  1.33344337e+00],\n",
              "       [-1.34578621e+00,  1.17007542e+00],\n",
              "       [ 3.38385430e-01,  1.41195709e+00],\n",
              "       [-1.39553951e+00,  1.32195129e+00],\n",
              "       [ 1.25887290e+00,  1.49448034e+00],\n",
              "       [-1.60428825e+00,  1.35065376e+00],\n",
              "       [ 3.45587869e-01,  1.48659389e+00],\n",
              "       [-1.80216846e+00,  1.37774337e+00],\n",
              "       [ 1.41218965e+00,  1.61296153e+00],\n",
              "       [-1.11216681e+00,  1.49219481e+00],\n",
              "       [ 9.41402513e-01,  1.67135587e+00],\n",
              "       [-1.17634314e+00,  1.56081929e+00],\n",
              "       [ 4.22044863e-01,  1.64741505e+00],\n",
              "       [-9.40469783e-01,  1.57563051e+00],\n",
              "       [ 7.64256141e-01,  2.04849750e+00],\n",
              "       [-1.25777876e+00,  1.93759497e+00],\n",
              "       [ 1.24182480e+00,  2.33392329e+00],\n",
              "       [-1.09370508e+00,  2.21557721e+00],\n",
              "       [ 8.00447888e-01,  2.54074821e+00],\n",
              "       [-1.11970871e+00,  2.44516923e+00],\n",
              "       [ 3.95410621e-01,  2.94666549e+00],\n",
              "       [-1.48800356e+00,  2.84701776e+00]])"
            ]
          },
          "execution_count": 16,
          "metadata": {},
          "output_type": "execute_result"
        }
      ],
      "source": [
        "sklearn_pca_scores_final = PCA(n_components=2).fit_transform(estandarizar)\n",
        "sklearn_pca_scores_final"
      ]
    },
    {
      "cell_type": "code",
      "execution_count": null,
      "metadata": {
        "colab": {
          "base_uri": "https://localhost:8080/",
          "height": 424
        },
        "id": "-h1pNWR7dQDk",
        "outputId": "c73ea337-5eed-4f6a-def8-775c3cef150f"
      },
      "outputs": [
        {
          "data": {
            "text/html": [
              "<div>\n",
              "<style scoped>\n",
              "    .dataframe tbody tr th:only-of-type {\n",
              "        vertical-align: middle;\n",
              "    }\n",
              "\n",
              "    .dataframe tbody tr th {\n",
              "        vertical-align: top;\n",
              "    }\n",
              "\n",
              "    .dataframe thead th {\n",
              "        text-align: right;\n",
              "    }\n",
              "</style>\n",
              "<table border=\"1\" class=\"dataframe\">\n",
              "  <thead>\n",
              "    <tr style=\"text-align: right;\">\n",
              "      <th></th>\n",
              "      <th>PC1</th>\n",
              "      <th>PC2</th>\n",
              "    </tr>\n",
              "  </thead>\n",
              "  <tbody>\n",
              "    <tr>\n",
              "      <th>0</th>\n",
              "      <td>-0.615720</td>\n",
              "      <td>-1.763481</td>\n",
              "    </tr>\n",
              "    <tr>\n",
              "      <th>1</th>\n",
              "      <td>-1.665793</td>\n",
              "      <td>-1.820747</td>\n",
              "    </tr>\n",
              "    <tr>\n",
              "      <th>2</th>\n",
              "      <td>0.337862</td>\n",
              "      <td>-1.674799</td>\n",
              "    </tr>\n",
              "    <tr>\n",
              "      <th>3</th>\n",
              "      <td>-1.456573</td>\n",
              "      <td>-1.772430</td>\n",
              "    </tr>\n",
              "    <tr>\n",
              "      <th>4</th>\n",
              "      <td>-0.038465</td>\n",
              "      <td>-1.662740</td>\n",
              "    </tr>\n",
              "    <tr>\n",
              "      <th>...</th>\n",
              "      <td>...</td>\n",
              "      <td>...</td>\n",
              "    </tr>\n",
              "    <tr>\n",
              "      <th>195</th>\n",
              "      <td>-1.093705</td>\n",
              "      <td>2.215577</td>\n",
              "    </tr>\n",
              "    <tr>\n",
              "      <th>196</th>\n",
              "      <td>0.800448</td>\n",
              "      <td>2.540748</td>\n",
              "    </tr>\n",
              "    <tr>\n",
              "      <th>197</th>\n",
              "      <td>-1.119709</td>\n",
              "      <td>2.445169</td>\n",
              "    </tr>\n",
              "    <tr>\n",
              "      <th>198</th>\n",
              "      <td>0.395411</td>\n",
              "      <td>2.946665</td>\n",
              "    </tr>\n",
              "    <tr>\n",
              "      <th>199</th>\n",
              "      <td>-1.488004</td>\n",
              "      <td>2.847018</td>\n",
              "    </tr>\n",
              "  </tbody>\n",
              "</table>\n",
              "<p>200 rows × 2 columns</p>\n",
              "</div>"
            ],
            "text/plain": [
              "          PC1       PC2\n",
              "0   -0.615720 -1.763481\n",
              "1   -1.665793 -1.820747\n",
              "2    0.337862 -1.674799\n",
              "3   -1.456573 -1.772430\n",
              "4   -0.038465 -1.662740\n",
              "..        ...       ...\n",
              "195 -1.093705  2.215577\n",
              "196  0.800448  2.540748\n",
              "197 -1.119709  2.445169\n",
              "198  0.395411  2.946665\n",
              "199 -1.488004  2.847018\n",
              "\n",
              "[200 rows x 2 columns]"
            ]
          },
          "execution_count": 17,
          "metadata": {},
          "output_type": "execute_result"
        }
      ],
      "source": [
        "num_pc = sklearn_pca_scores_final.shape[1]\n",
        "pc_list_final = [\"PC\"+str(i) for i in list(range(1, num_pc+1))]\n",
        "pca_final = pd.DataFrame(sklearn_pca_scores_final,columns=pc_list_final)\n",
        "pca_final"
      ]
    },
    {
      "cell_type": "markdown",
      "metadata": {
        "id": "CkcAQyO41cjs"
      },
      "source": [
        "# 2. Entrenar el clustering K-Means"
      ]
    },
    {
      "cell_type": "code",
      "execution_count": null,
      "metadata": {
        "id": "R_fHzKBHB9zI"
      },
      "outputs": [],
      "source": [
        "X = pca_final.values"
      ]
    },
    {
      "cell_type": "markdown",
      "metadata": {
        "id": "_Dsko1mKDZBA"
      },
      "source": [
        "# 2.1 Método del codo para averiguar el número óptimo de clusters"
      ]
    },
    {
      "cell_type": "code",
      "execution_count": null,
      "metadata": {
        "colab": {
          "base_uri": "https://localhost:8080/",
          "height": 299
        },
        "id": "S-LPretufTHU",
        "outputId": "7c752a89-3e93-4ec0-d625-0fbcb2816159"
      },
      "outputs": [
        {
          "data": {
            "image/png": "[encoded data removed]",
            "text/plain": [
              "<Figure size 432x288 with 1 Axes>"
            ]
          },
          "metadata": {
            "needs_background": "light"
          },
          "output_type": "display_data"
        }
      ],
      "source": [
        "\n",
        "from sklearn.cluster import KMeans\n",
        "wcss = []\n",
        "for i in range(1, 11):\n",
        "    kmeans = KMeans(n_clusters = i, init = \"k-means++\", max_iter = 300, n_init = 10, random_state = 0)\n",
        "    kmeans.fit(X)\n",
        "    wcss.append(kmeans.inertia_)\n",
        "\n",
        "plt.plot(range(1,11), wcss)\n",
        "plt.title(\"Método del codo\")\n",
        "plt.xlabel(\"Número de Clusters\")\n",
        "plt.ylabel(\"WCSS(k)\")\n",
        "plt.show()"
      ]
    },
    {
      "cell_type": "markdown",
      "metadata": {
        "id": "O6-5yqKdonxo"
      },
      "source": [
        "Por lo que se visualiza en el gráfico de codos nos quedamos con clúster igual a 4."
      ]
    },
    {
      "cell_type": "markdown",
      "metadata": {
        "id": "XLaF2ZBwDfAh"
      },
      "source": [
        "# 2.2 Método de k-means para segmentar el dataset"
      ]
    },
    {
      "cell_type": "code",
      "execution_count": null,
      "metadata": {
        "id": "2VBNQDP9hXJE"
      },
      "outputs": [],
      "source": [
        "kmeans = KMeans(n_clusters = 4, init=\"k-means++\", max_iter = 300, n_init = 10, random_state = 0)\n",
        "y_kmeans = kmeans.fit_predict(X)"
      ]
    },
    {
      "cell_type": "code",
      "execution_count": null,
      "metadata": {
        "colab": {
          "base_uri": "https://localhost:8080/"
        },
        "id": "uvwHhB3ThqYj",
        "outputId": "64fe141d-e2eb-41a2-d8ec-15a2320e480e"
      },
      "outputs": [
        {
          "data": {
            "text/plain": [
              "array([2, 2, 1, 2, 2, 2, 1, 2, 1, 2, 1, 2, 1, 2, 1, 2, 1, 2, 1, 2, 1, 2,\n",
              "       1, 2, 1, 2, 1, 2, 1, 2, 1, 2, 1, 2, 1, 2, 1, 2, 1, 2, 1, 2, 1, 2,\n",
              "       1, 2, 1, 2, 2, 2, 1, 2, 2, 1, 1, 1, 1, 1, 2, 1, 1, 2, 1, 1, 1, 2,\n",
              "       1, 1, 2, 2, 1, 1, 1, 1, 1, 2, 1, 1, 2, 1, 1, 1, 1, 1, 2, 1, 1, 0,\n",
              "       0, 1, 1, 0, 1, 1, 0, 0, 1, 0, 1, 0, 0, 1, 1, 0, 1, 0, 1, 1, 1, 1,\n",
              "       1, 0, 1, 0, 0, 0, 1, 1, 1, 1, 0, 1, 0, 0, 0, 0, 3, 0, 3, 0, 3, 0,\n",
              "       0, 0, 3, 0, 3, 0, 3, 0, 3, 0, 0, 0, 3, 0, 3, 0, 3, 0, 3, 0, 3, 0,\n",
              "       3, 0, 3, 0, 3, 0, 3, 0, 3, 0, 3, 0, 3, 0, 3, 0, 3, 0, 3, 0, 3, 0,\n",
              "       3, 0, 3, 0, 3, 0, 3, 0, 3, 0, 3, 0, 3, 0, 3, 0, 3, 0, 3, 0, 3, 0,\n",
              "       3, 0])"
            ]
          },
          "execution_count": 21,
          "metadata": {},
          "output_type": "execute_result"
        }
      ],
      "source": [
        "y_kmeans"
      ]
    },
    {
      "cell_type": "markdown",
      "metadata": {
        "id": "ldt3oLGrE7Ap"
      },
      "source": [
        "# 3. Encontrar los clusters (predict)"
      ]
    },
    {
      "cell_type": "code",
      "execution_count": null,
      "metadata": {
        "colab": {
          "base_uri": "https://localhost:8080/",
          "height": 299
        },
        "id": "INKkWiFahtaj",
        "outputId": "ed117031-fe31-48e2-e916-ed8cb908d0e7"
      },
      "outputs": [
        {
          "data": {
            "image/png": "[encoded data removed]",
            "text/plain": [
              "<Figure size 432x288 with 1 Axes>"
            ]
          },
          "metadata": {
            "needs_background": "light"
          },
          "output_type": "display_data"
        }
      ],
      "source": [
        "\n",
        "plt.scatter(X[y_kmeans == 0, 0], X[y_kmeans == 0, 1], s = 100, c = \"red\", label = \"PC1 bajo, PC2 alto\")\n",
        "plt.scatter(X[y_kmeans == 1, 0], X[y_kmeans == 1, 1], s = 100, c = \"blue\", label = \"PC1 alto, PC2 bajo\")\n",
        "plt.scatter(X[y_kmeans == 2, 0], X[y_kmeans == 2, 1], s = 100, c = \"green\", label = \"PC1 bajo, PC2 bajo\")\n",
        "plt.scatter(X[y_kmeans == 3, 0], X[y_kmeans == 3, 1], s = 100, c = \"cyan\", label = \"PC1 alto, PC2 alto\")\n",
        "plt.scatter(kmeans.cluster_centers_[:,0], kmeans.cluster_centers_[:,1], s = 300, c = \"yellow\", label = \"Baricentros\")\n",
        "plt.title(\"Cluster de clientes\")\n",
        "plt.xlabel(\"PC1\")\n",
        "plt.ylabel(\"PC2\")\n",
        "plt.legend()\n",
        "plt.show()"
      ]
    },
    {
      "cell_type": "markdown",
      "metadata": {
        "id": "XmB2MEX0nJQD"
      },
      "source": [
        "# 4. Visualización de características de los clusters"
      ]
    },
    {
      "cell_type": "code",
      "execution_count": null,
      "metadata": {
        "id": "nFH0Xw1AnJQD"
      },
      "outputs": [],
      "source": [
        "df_final = pd.concat([df,pd.DataFrame(y_kmeans,columns=['cluster'])],axis=1)\n",
        "cluster_colors = ['#b4d2b1', '#568f8b', '#1d4a60', '#cd7e59', '#ddb247', '#d15252']"
      ]
    },
    {
      "cell_type": "code",
      "execution_count": null,
      "metadata": {
        "id": "g9kWvJC7nJQD"
      },
      "outputs": [],
      "source": [
        "X_mean = pd.concat([pd.DataFrame(df_final.mean().drop('cluster'), columns=['mean']), \n",
        "                   df_final.groupby('cluster').mean().T], axis=1)\n",
        "\n",
        "X_dev_rel = X_mean.apply(lambda x: round((x-x['mean'])/x['mean'],2)*100, axis = 1)\n",
        "X_dev_rel.drop(columns=['mean'], inplace=True)"
      ]
    },
    {
      "cell_type": "code",
      "execution_count": null,
      "metadata": {
        "id": "jZRvUd4anJQD",
        "outputId": "c939de57-660c-4a9c-dec8-379183520f5d"
      },
      "outputs": [
        {
          "data": {
            "image/png": "[encoded data removed]",
            "text/plain": [
              "<Figure size 1000x1000 with 3 Axes>"
            ]
          },
          "metadata": {
            "needs_background": "light"
          },
          "output_type": "display_data"
        }
      ],
      "source": [
        "import matplotlib.patches as mpatches\n",
        "def cluster_comparison_bar(X_comparison, colors, deviation=True ,title=\"Cluster results\"):\n",
        "    \n",
        "    features = X_comparison.index\n",
        "    ncols = 3\n",
        "    # calculate number of rows\n",
        "    nrows = len(features) // ncols + (len(features) % ncols > 0)\n",
        "    # set figure size\n",
        "    fig = plt.figure(figsize=(10,10), dpi=100)\n",
        "    #interate through every feature\n",
        "    for n, feature in enumerate(features):\n",
        "        # create chart\n",
        "        ax = plt.subplot(nrows, ncols, n + 1)\n",
        "        X_comparison[X_comparison.index==feature].plot(kind='bar', ax=ax, title=feature, \n",
        "                                                             color=colors[0:df_final.cluster.nunique()],\n",
        "                                                             legend=False\n",
        "                                                            )\n",
        "        plt.axhline(y=0)\n",
        "        x_axis = ax.axes.get_xaxis()\n",
        "        x_axis.set_visible(False)\n",
        "\n",
        "    c_labels = X_comparison.columns.to_list()\n",
        "    c_colors = colors[0:3]\n",
        "    mpats = [mpatches.Patch(color=c, label=l) for c,l in list(zip(colors[0:df_final.cluster.nunique()],\n",
        "                                                                  X_comparison.columns.to_list()))]\n",
        "\n",
        "    fig.legend(handles=mpats,\n",
        "               ncol=ncols,\n",
        "               loc=\"upper center\",\n",
        "               fancybox=True,\n",
        "               bbox_to_anchor=(0.5, 0.98)\n",
        "              )\n",
        "    axes = fig.get_axes()\n",
        "    \n",
        "    fig.suptitle(title, fontsize=12, y=1)\n",
        "    #fig.supylabel('Deviation from overall mean in %')\n",
        "    plt.tight_layout()\n",
        "    plt.subplots_adjust(top=0.93)\n",
        "    plt.show()\n",
        "    \n",
        "cluster_comparison_bar(X_dev_rel, cluster_colors, title=\"Comparison of the mean per cluster to overall mean in percent\")"
      ]
    },
    {
      "cell_type": "markdown",
      "metadata": {
        "id": "xEuLGopWjxR_"
      },
      "source": [
        "# 5 Ejercicio: \"Perfilamiento\""
      ]
    },
    {
      "cell_type": "markdown",
      "metadata": {
        "id": "8kcOw2nm0Kdy"
      },
      "source": [
        "- Realizar una segmentación de 5 clusters y las 3 variables utilizadas anteriormente\n",
        "- Realizar una visualización de características por cluster\n",
        "- Asignar un nombre o perfil a cada cluster"
      ]
    },
    {
      "cell_type": "markdown",
      "metadata": {
        "id": "9tthvTinnJQE"
      },
      "source": []
    }
  ],
  "metadata": {
    "colab": {
      "provenance": [],
      "include_colab_link": true
    },
    "kernelspec": {
      "display_name": "Python 3.9.2 64-bit",
      "language": "python",
      "name": "python3"
    },
    "language_info": {
      "codemirror_mode": {
        "name": "ipython",
        "version": 3
      },
      "file_extension": ".py",
      "mimetype": "text/x-python",
      "name": "python",
      "nbconvert_exporter": "python",
      "pygments_lexer": "ipython3",
      "version": "3.9.2"
    },
    "orig_nbformat": 4,
    "vscode": {
      "interpreter": {
        "hash": "11938c6bc6919ae2720b4d5011047913343b08a43b18698fd82dedb0d4417594"
      }
    }
  },
  "nbformat": 4,
  "nbformat_minor": 0
}